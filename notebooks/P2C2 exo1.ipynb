{
  "cells": [
    {
      "cell_type": "markdown",
      "metadata": {
        "id": "6DjyuLxdJIm9"
      },
      "source": [
        "![openclassrooms](https://s3.eu-west-1.amazonaws.com/course.oc-static.com/courses/6204541/1+HnqdJ-5ofxiPP9HIxdNdpw.jpeg)\n",
        "\n",
        "# Initiez-vous à Python pour l'analyse de données\n",
        "\n",
        "## Manipulez les types de variables\n",
        "\n",
        "Reprenons la problématique du taux d'intérêt du chapitre précédent :"
      ]
    },
    {
      "cell_type": "code",
      "execution_count": 1,
      "metadata": {
        "id": "chFgW25rJIm_",
        "outputId": "987a0139-3353-4acb-acc5-c796f1d5987f",
        "colab": {
          "base_uri": "https://localhost:8080/"
        }
      },
      "outputs": [
        {
          "output_type": "stream",
          "name": "stdout",
          "text": [
            "75.0\n"
          ]
        }
      ],
      "source": [
        "compteEpargne = 10000\n",
        "taux = 0.75\n",
        "\n",
        "interets = compteEpargne * (taux/100)\n",
        "\n",
        "print(interets)"
      ]
    },
    {
      "cell_type": "markdown",
      "metadata": {
        "id": "Hw5plZPeJInC"
      },
      "source": [
        "Si vous observez bien, la variable `interets` est actuellement de type `float`. Ecrivez ci dessous une ligne permettant de la transformer en entier :"
      ]
    },
    {
      "cell_type": "code",
      "execution_count": 2,
      "metadata": {
        "id": "cAq1FYVQJInC",
        "outputId": "aec6bb01-ad99-417f-8163-89bae595b181",
        "colab": {
          "base_uri": "https://localhost:8080/"
        }
      },
      "outputs": [
        {
          "output_type": "stream",
          "name": "stdout",
          "text": [
            "75\n"
          ]
        }
      ],
      "source": [
        "interets = int(interets)\n",
        "print(interets)"
      ]
    }
  ],
  "metadata": {
    "kernelspec": {
      "display_name": "Python 3",
      "language": "python",
      "name": "python3"
    },
    "language_info": {
      "codemirror_mode": {
        "name": "ipython",
        "version": 3
      },
      "file_extension": ".py",
      "mimetype": "text/x-python",
      "name": "python",
      "nbconvert_exporter": "python",
      "pygments_lexer": "ipython3",
      "version": "3.8.5"
    },
    "colab": {
      "provenance": []
    }
  },
  "nbformat": 4,
  "nbformat_minor": 0
}