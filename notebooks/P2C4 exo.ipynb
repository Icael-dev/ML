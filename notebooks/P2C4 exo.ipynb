{
  "cells": [
    {
      "cell_type": "markdown",
      "metadata": {
        "id": "view-in-github",
        "colab_type": "text"
      },
      "source": [
        "<a href=\"https://colab.research.google.com/github/Icael-dev/ML/blob/main/notebooks/P2C4%20exo.ipynb\" target=\"_parent\"><img src=\"https://colab.research.google.com/assets/colab-badge.svg\" alt=\"Open In Colab\"/></a>"
      ]
    },
    {
      "cell_type": "markdown",
      "metadata": {
        "id": "O8YnGi7NmPv5"
      },
      "source": [
        "![openclassrooms](https://s3.eu-west-1.amazonaws.com/course.oc-static.com/courses/6204541/1+HnqdJ-5ofxiPP9HIxdNdpw.jpeg)\n",
        "\n",
        "# Initiez-vous à Python pour l'analyse de données\n",
        "\n",
        "## Programmez en orienté objet\n",
        "\n",
        "<br><br>\n",
        "\n",
        "**Les méthodes de chaines de caractères**\n",
        "\n",
        "Soit la variable `maPhrase` suivante :"
      ]
    },
    {
      "cell_type": "code",
      "execution_count": 9,
      "metadata": {
        "id": "Mdhe4AeemPv7"
      },
      "outputs": [],
      "source": [
        "maPhrase = 'JE SUIS ENERVE !!'"
      ]
    },
    {
      "cell_type": "markdown",
      "metadata": {
        "id": "-Kc52UGSmPv8"
      },
      "source": [
        "Utilisez une méthode de chaines de caractères pour transformer la variable `maPhrase`  en minuscule :"
      ]
    },
    {
      "cell_type": "code",
      "execution_count": 17,
      "metadata": {
        "id": "tBnpBlZumPv8"
      },
      "outputs": [],
      "source": [
        "maPhrase = maPhrase.lower()"
      ]
    },
    {
      "cell_type": "markdown",
      "metadata": {
        "id": "VdLewFWtmPv9"
      },
      "source": [
        "Remplacez les **...** par une ligne permettant, à partir de la variable maPhrase d'afficher : `je suis calme !!`"
      ]
    },
    {
      "cell_type": "code",
      "execution_count": 18,
      "metadata": {
        "id": "9xsw1iiHmPv9",
        "outputId": "3ead0424-ce4c-4a08-b34b-2be9804688f4",
        "colab": {
          "base_uri": "https://localhost:8080/"
        }
      },
      "outputs": [
        {
          "output_type": "stream",
          "name": "stdout",
          "text": [
            "je suis calme !!\n"
          ]
        }
      ],
      "source": [
        "maPhrase = maPhrase.replace('enerve','calme')\n",
        "print(maPhrase)"
      ]
    }
  ],
  "metadata": {
    "kernelspec": {
      "display_name": "Python 3",
      "language": "python",
      "name": "python3"
    },
    "language_info": {
      "codemirror_mode": {
        "name": "ipython",
        "version": 3
      },
      "file_extension": ".py",
      "mimetype": "text/x-python",
      "name": "python",
      "nbconvert_exporter": "python",
      "pygments_lexer": "ipython3",
      "version": "3.8.5"
    },
    "colab": {
      "provenance": [],
      "include_colab_link": true
    }
  },
  "nbformat": 4,
  "nbformat_minor": 0
}